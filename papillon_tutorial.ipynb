{
  "cells": [
    {
      "cell_type": "markdown",
      "metadata": {
        "id": "view-in-github",
        "colab_type": "text"
      },
      "source": [
        "<a href=\"https://colab.research.google.com/github/siyan-sylvia-li/PAPILLON/blob/main/papillon_tutorial.ipynb\" target=\"_parent\"><img src=\"https://colab.research.google.com/assets/colab-badge.svg\" alt=\"Open In Colab\"/></a>"
      ]
    },
    {
      "cell_type": "markdown",
      "metadata": {
        "id": "WnTALe_SOJEz"
      },
      "source": [
        "<a href=\"https://colab.research.google.com/github/siyan-sylvia-li/PAPILLON/blob/main/papillon_tutorial.ipynb\" target=\"_parent\"><img src=\"https://colab.research.google.com/assets/colab-badge.svg\" alt=\"Open In Colab\"/></a>\n",
        "\n",
        "## PAPILLON Tutorial\n",
        "\n",
        "In this notebook, we will walk through how to set up your own PAPILLON pipeline locally with a GPU server.\n",
        "\n",
        "### What is PAPILLON?\n",
        "\n",
        "PAPILLON is a framework where local models (which are trusted, but they offer lower quality) can use external models (untrusted but more powerful) as tools in order to improve user inference-time privacy. Refer to the [paper](https://arxiv.org/abs/2410.17127) for how we constructed a benchmark for this task.\n",
        "\n",
        "<img src=\"https://drive.google.com/uc?export=view&id=1_65eiWab8cDs3XqP-gNY6i-CDvvEmI56\" alt=\"Overview of the PAPILLON pipeline\" height=\"250\"/>\n",
        "\n",
        "**Note:** This guide targets usability and using recent versions of our software dependencies. The `papillon_v1.0` branch of this repository describes our paper's runs in the original conditions."
      ]
    },
    {
      "cell_type": "markdown",
      "metadata": {
        "id": "9S4iAejOOJE1"
      },
      "source": [
        "### Installation\n",
        "\n",
        "Before we start, please make sure you've installed the dependencies: DSPy for the building and optimizing our pipeline and SGLang for hosting the local model. We will additionally use Huggingface to load our dataset for evaluation and optimization."
      ]
    },
    {
      "cell_type": "code",
      "execution_count": null,
      "metadata": {
        "id": "BIsemHJsOJE2"
      },
      "outputs": [],
      "source": [
        "%pip install dspy-ai==2.5.41 sglang[all] datasets huggingface"
      ]
    },
    {
      "cell_type": "markdown",
      "metadata": {
        "id": "es9LezccOJE3"
      },
      "source": [
        "### Launch Llama-3.1-8B-Instruct\n",
        "\n",
        "For this tutorial, we will use **GPT-4o-mini** as the external untrusted model and **Llama-3.1-8B-Instruct** as the trusted, locally-hosted model.\n",
        "\n",
        "We will host this model using SGLang. If you have the model hosted elsewhre, just adjust the `local_lm` variable accordingly in the following sections."
      ]
    },
    {
      "cell_type": "code",
      "execution_count": null,
      "metadata": {
        "id": "L9FLmXTQOJE3"
      },
      "outputs": [],
      "source": [
        "%pip install flashinfer -i https://flashinfer.ai/whl/cu121/torch2.4/\n",
        "\n",
        "PORT_NUMBER = 7501 # You can change the port number here\n",
        "\n",
        "!CUDA_VISIBLE_DEVICES=0 python -m sglang.launch_server --port $PORT_NUMBER --model-path meta-llama/Llama-3.1-8B-Instruct"
      ]
    },
    {
      "cell_type": "markdown",
      "metadata": {
        "id": "DTPcfJ76OJE3"
      },
      "source": [
        "### Initialize the Local and Remote LLMs\n",
        "\n",
        "The Local LM is a trusted (but usually weaker) model. It should ideally be the only component of the pipeline that manages your private information.\n",
        "\n",
        "The Remote LM might be untrusted, but usually more powerful. The goal of the PAPILLON pipeline is to produce high-quality outputs while leaking as little of your private information as possible to the Remote LM."
      ]
    },
    {
      "cell_type": "code",
      "execution_count": null,
      "metadata": {
        "id": "stTu2mJjOJE3"
      },
      "outputs": [],
      "source": [
        "import dspy\n",
        "import os\n",
        "\n",
        "os.environ[\"OPENAI_API_KEY\"] = \"<YOUR_API_KEY>\"\n",
        "\n",
        "local_lm = dspy.LM('openai/sglang/Llama-3.1-8B-Instruct', api_base=f\"http://127.0.0.1:{PORT_NUMBER}/v1\", api_key=\"\", max_tokens=4000)\n",
        "dspy.configure(lm=local_lm)\n",
        "\n",
        "openai_lm = dspy.LM(model=\"openai/gpt-4o-mini\", max_tokens=4000)"
      ]
    },
    {
      "cell_type": "markdown",
      "metadata": {
        "id": "ZknuudlaOJE4"
      },
      "source": [
        "### Define the PAPILLON pipeline\n",
        "\n",
        "We will now define the Prompt Creator and Information Aggregator modules according to the diagram earlier in this notebook.\n",
        "\n",
        "After defining the module, we can then optimize the prompts for these modules using the MIPRO v2 DSPy prompt optimizer, so that you can keep creating new PAPILLON pipelines for your specific needs."
      ]
    },
    {
      "cell_type": "code",
      "execution_count": null,
      "metadata": {
        "id": "L_v3Fnx3OJE4"
      },
      "outputs": [],
      "source": [
        "class CreateOnePrompt(dspy.Signature):\n",
        "    \"\"\"\n",
        "    You are a helpful assistant that is very mindful of user privacy. You have access to a powerful large language model that you can query. Given a user request, create a prompt for your large language model that preserves user privacy, so that this model can help you complete the user request. Provide the prompt directly without any preamble. DO NOT COMPLETE THE USER QUERY, ONLY GENERATE A PROMPT.\n",
        "    \"\"\"\n",
        "    userQuery = dspy.InputField(desc=\"The user's request to be fulfilled.\")\n",
        "    createdPrompt = dspy.OutputField()\n",
        "\n",
        "class InfoAggregator(dspy.Signature):\n",
        "    \"\"\"\n",
        "    You are a helpful assistant. Respond to queries from the user.\n",
        "    \"\"\"\n",
        "\n",
        "    userQuery = dspy.InputField(desc=\"The user's request to be fulfilled.\")\n",
        "    modelExampleResponses = dspy.InputField(desc=\"Information from a more powerful language model responding to related queries. Complete the user query by referencing this information. Only you have access to this information.\")\n",
        "    finalOutput = dspy.OutputField()\n",
        "\n",
        "\n",
        "class PAPILLON(dspy.Module):\n",
        "    def __init__(self, untrusted_model):\n",
        "        self.prompt_creater = dspy.ChainOfThought(CreateOnePrompt)\n",
        "        self.info_aggregator = dspy.Predict(InfoAggregator)\n",
        "        self.untrusted_model = untrusted_model\n",
        "\n",
        "    def forward(self, user_query):\n",
        "        try:\n",
        "            prompt = self.prompt_creater(userQuery=user_query).createdPrompt\n",
        "            response = self.untrusted_model(prompt)[0]\n",
        "            output = self.info_aggregator(userQuery=user_query, modelExampleResponses=response)\n",
        "        except Exception:\n",
        "            return dspy.Prediction(prompt=\"\", output=\"\", gptResponse=\"\")\n",
        "\n",
        "        return dspy.Prediction(prompt=prompt, output=output.finalOutput, gptResponse=response)"
      ]
    },
    {
      "cell_type": "markdown",
      "metadata": {
        "id": "SuAeYKoKOJE4"
      },
      "source": [
        "### Let's load some data!\n",
        "\n",
        "Our paper introduced the PUPA benchmark for this task, available both on Huggingface and in this repository (`pupa/*.csv`).\n",
        "\n",
        "The PUPA benchmark contains user-assistant interactions where the user divulges personally identifiable information (PII) in the [WildChat](https://arxiv.org/abs/2405.01470) dataset. We use annotation schemas detailed in the [Trust No Bot](https://arxiv.org/abs/2407.11438) paper to determine whether an interaction contains private information of specific types.\n",
        "\n",
        "PUPA consists of two parts:\n",
        "\n",
        "1. `PUPA-TNB` is data derived from the original annotations from the Trust No Bot paper.\n",
        "2. `PUPA-New` is data derived from the rest of the WildChat dataset that is not annotated in the Trust No Bot paper.\n",
        "\n",
        "We will different splits of the PUPA-New to optimize our PAPILLON program and for evaluation before and after the optimization. In the paper, we used PUPA-TNB for standardized evaluation across different models. Here, we use PUPA-New here for demonstration purposes."
      ]
    },
    {
      "cell_type": "code",
      "source": [
        "from datasets import load_dataset\n",
        "\n",
        "pupa_tnb = load_dataset(\"Columbia-NLP/PUPA\", \"pupa_tnb\")\n",
        "pupa_new = load_dataset(\"Columbia-NLP/PUPA\", \"pupa_new\")"
      ],
      "metadata": {
        "colab": {
          "base_uri": "https://localhost:8080/",
          "height": 81,
          "referenced_widgets": [
            "e7d5b6d6390c48e3aaeb02cf728b0678",
            "6b80cb68244d4631a9c0e0a8e7e1977b",
            "80ec4a8aaff54127a1a0c328f98884b0",
            "88970577783746aba001f831f5d6ac60",
            "a3b15114a36a42b1b229dbd203d73fec",
            "7c31c78a43b742c0ac8458381254ca9e",
            "a5ee2b50b4a74480b1d5218961e365b6",
            "6b22028a70d9419487c472554e0d01e0",
            "4b8d4a03f9754ba5955cf8b04d74303e",
            "5dbaf3402f3d44e0a6b3e5dbfaa6e789",
            "36627b6ce95d4d2981157b7b721b7629",
            "ff781322fe90408ab280f5b00dc876c7",
            "ec5bd8c5fefa48fcb018256c48e6f1d0",
            "866ecbbdcdfb48968d8cb2917cebefcb",
            "cc168d7fe02e4f0090059a84146e6532",
            "a3ed9e841ffa485ba8f98a07d9f4f07d",
            "43d4b37c96cc4ae8b3192dc9ec958149",
            "17f59263c6e64563952bd2b4df48db72",
            "75b5b5f16b6e468cae2c95d4445d152d",
            "c21d967ef0c34328aa4add959474fcd8",
            "9b37a5f93b604197b31f07f7c095ca09",
            "3893374fef1640619df22a412edca53f"
          ]
        },
        "id": "6BgswfBSSOH5",
        "outputId": "38cea941-6233-4230-dd49-e2ab40c85ea1"
      },
      "execution_count": 8,
      "outputs": [
        {
          "output_type": "display_data",
          "data": {
            "text/plain": [
              "PUPA_TNB.csv:   0%|          | 0.00/897k [00:00<?, ?B/s]"
            ],
            "application/vnd.jupyter.widget-view+json": {
              "version_major": 2,
              "version_minor": 0,
              "model_id": "e7d5b6d6390c48e3aaeb02cf728b0678"
            }
          },
          "metadata": {}
        },
        {
          "output_type": "display_data",
          "data": {
            "text/plain": [
              "Generating train split:   0%|          | 0/237 [00:00<?, ? examples/s]"
            ],
            "application/vnd.jupyter.widget-view+json": {
              "version_major": 2,
              "version_minor": 0,
              "model_id": "ff781322fe90408ab280f5b00dc876c7"
            }
          },
          "metadata": {}
        }
      ]
    },
    {
      "cell_type": "code",
      "source": [
        "# Let's first take a look at some data examples\n",
        "from IPython.display import display\n",
        "display(pupa_tnb[\"train\"].to_pandas().head(3))"
      ],
      "metadata": {
        "colab": {
          "base_uri": "https://localhost:8080/",
          "height": 195
        },
        "id": "vrefXcEcUQZP",
        "outputId": "89f30225-8740-4ede-fde9-a4624540bcb9"
      },
      "execution_count": 9,
      "outputs": [
        {
          "output_type": "display_data",
          "data": {
            "text/plain": [
              "                  conversation_hash                 predicted_category  \\\n",
              "0  e7a39c9e8d82872ca048996ee756350e  job, visa, and other applications   \n",
              "1  5ef034853452a12782a0aca4e71c9d62  job, visa, and other applications   \n",
              "2  9d10fe1f5b6657a7a5ccc0180a5938c8  job, visa, and other applications   \n",
              "\n",
              "                                          user_query  \\\n",
              "0  Rachel Zheng is a clerk in the Administrative ...   \n",
              "1  Please describe the job knowledge requirements...   \n",
              "2  i want to write a letter to the royal college ...   \n",
              "\n",
              "                                     target_response  \\\n",
              "0  Rachel Zheng 是 H&R Technology 行政部门的职员。当她回到办公室时...   \n",
              "1  The International Advising Assistant position ...   \n",
              "2  [Your Name] [Your Address] [City, State, ZIP C...   \n",
              "\n",
              "                                           pii_units  \\\n",
              "0  rachel||johnny||univeristy of westminster||wes...   \n",
              "1                                         university   \n",
              "2                                              Sudan   \n",
              "\n",
              "                                      redacted_query  \n",
              "0  [REDACTED] is a clerk in the Administrative De...  \n",
              "1  Please describe the job knowledge requirements...  \n",
              "2  i want to write a letter to the royal college ...  "
            ],
            "text/html": [
              "\n",
              "  <div id=\"df-f3f158a8-0fa5-401c-b5e3-1fcb6a9de931\" class=\"colab-df-container\">\n",
              "    <div>\n",
              "<style scoped>\n",
              "    .dataframe tbody tr th:only-of-type {\n",
              "        vertical-align: middle;\n",
              "    }\n",
              "\n",
              "    .dataframe tbody tr th {\n",
              "        vertical-align: top;\n",
              "    }\n",
              "\n",
              "    .dataframe thead th {\n",
              "        text-align: right;\n",
              "    }\n",
              "</style>\n",
              "<table border=\"1\" class=\"dataframe\">\n",
              "  <thead>\n",
              "    <tr style=\"text-align: right;\">\n",
              "      <th></th>\n",
              "      <th>conversation_hash</th>\n",
              "      <th>predicted_category</th>\n",
              "      <th>user_query</th>\n",
              "      <th>target_response</th>\n",
              "      <th>pii_units</th>\n",
              "      <th>redacted_query</th>\n",
              "    </tr>\n",
              "  </thead>\n",
              "  <tbody>\n",
              "    <tr>\n",
              "      <th>0</th>\n",
              "      <td>e7a39c9e8d82872ca048996ee756350e</td>\n",
              "      <td>job, visa, and other applications</td>\n",
              "      <td>Rachel Zheng is a clerk in the Administrative ...</td>\n",
              "      <td>Rachel Zheng 是 H&amp;R Technology 行政部门的职员。当她回到办公室时...</td>\n",
              "      <td>rachel||johnny||univeristy of westminster||wes...</td>\n",
              "      <td>[REDACTED] is a clerk in the Administrative De...</td>\n",
              "    </tr>\n",
              "    <tr>\n",
              "      <th>1</th>\n",
              "      <td>5ef034853452a12782a0aca4e71c9d62</td>\n",
              "      <td>job, visa, and other applications</td>\n",
              "      <td>Please describe the job knowledge requirements...</td>\n",
              "      <td>The International Advising Assistant position ...</td>\n",
              "      <td>university</td>\n",
              "      <td>Please describe the job knowledge requirements...</td>\n",
              "    </tr>\n",
              "    <tr>\n",
              "      <th>2</th>\n",
              "      <td>9d10fe1f5b6657a7a5ccc0180a5938c8</td>\n",
              "      <td>job, visa, and other applications</td>\n",
              "      <td>i want to write a letter to the royal college ...</td>\n",
              "      <td>[Your Name] [Your Address] [City, State, ZIP C...</td>\n",
              "      <td>Sudan</td>\n",
              "      <td>i want to write a letter to the royal college ...</td>\n",
              "    </tr>\n",
              "  </tbody>\n",
              "</table>\n",
              "</div>\n",
              "    <div class=\"colab-df-buttons\">\n",
              "\n",
              "  <div class=\"colab-df-container\">\n",
              "    <button class=\"colab-df-convert\" onclick=\"convertToInteractive('df-f3f158a8-0fa5-401c-b5e3-1fcb6a9de931')\"\n",
              "            title=\"Convert this dataframe to an interactive table.\"\n",
              "            style=\"display:none;\">\n",
              "\n",
              "  <svg xmlns=\"http://www.w3.org/2000/svg\" height=\"24px\" viewBox=\"0 -960 960 960\">\n",
              "    <path d=\"M120-120v-720h720v720H120Zm60-500h600v-160H180v160Zm220 220h160v-160H400v160Zm0 220h160v-160H400v160ZM180-400h160v-160H180v160Zm440 0h160v-160H620v160ZM180-180h160v-160H180v160Zm440 0h160v-160H620v160Z\"/>\n",
              "  </svg>\n",
              "    </button>\n",
              "\n",
              "  <style>\n",
              "    .colab-df-container {\n",
              "      display:flex;\n",
              "      gap: 12px;\n",
              "    }\n",
              "\n",
              "    .colab-df-convert {\n",
              "      background-color: #E8F0FE;\n",
              "      border: none;\n",
              "      border-radius: 50%;\n",
              "      cursor: pointer;\n",
              "      display: none;\n",
              "      fill: #1967D2;\n",
              "      height: 32px;\n",
              "      padding: 0 0 0 0;\n",
              "      width: 32px;\n",
              "    }\n",
              "\n",
              "    .colab-df-convert:hover {\n",
              "      background-color: #E2EBFA;\n",
              "      box-shadow: 0px 1px 2px rgba(60, 64, 67, 0.3), 0px 1px 3px 1px rgba(60, 64, 67, 0.15);\n",
              "      fill: #174EA6;\n",
              "    }\n",
              "\n",
              "    .colab-df-buttons div {\n",
              "      margin-bottom: 4px;\n",
              "    }\n",
              "\n",
              "    [theme=dark] .colab-df-convert {\n",
              "      background-color: #3B4455;\n",
              "      fill: #D2E3FC;\n",
              "    }\n",
              "\n",
              "    [theme=dark] .colab-df-convert:hover {\n",
              "      background-color: #434B5C;\n",
              "      box-shadow: 0px 1px 3px 1px rgba(0, 0, 0, 0.15);\n",
              "      filter: drop-shadow(0px 1px 2px rgba(0, 0, 0, 0.3));\n",
              "      fill: #FFFFFF;\n",
              "    }\n",
              "  </style>\n",
              "\n",
              "    <script>\n",
              "      const buttonEl =\n",
              "        document.querySelector('#df-f3f158a8-0fa5-401c-b5e3-1fcb6a9de931 button.colab-df-convert');\n",
              "      buttonEl.style.display =\n",
              "        google.colab.kernel.accessAllowed ? 'block' : 'none';\n",
              "\n",
              "      async function convertToInteractive(key) {\n",
              "        const element = document.querySelector('#df-f3f158a8-0fa5-401c-b5e3-1fcb6a9de931');\n",
              "        const dataTable =\n",
              "          await google.colab.kernel.invokeFunction('convertToInteractive',\n",
              "                                                    [key], {});\n",
              "        if (!dataTable) return;\n",
              "\n",
              "        const docLinkHtml = 'Like what you see? Visit the ' +\n",
              "          '<a target=\"_blank\" href=https://colab.research.google.com/notebooks/data_table.ipynb>data table notebook</a>'\n",
              "          + ' to learn more about interactive tables.';\n",
              "        element.innerHTML = '';\n",
              "        dataTable['output_type'] = 'display_data';\n",
              "        await google.colab.output.renderOutput(dataTable, element);\n",
              "        const docLink = document.createElement('div');\n",
              "        docLink.innerHTML = docLinkHtml;\n",
              "        element.appendChild(docLink);\n",
              "      }\n",
              "    </script>\n",
              "  </div>\n",
              "\n",
              "\n",
              "<div id=\"df-8ccef2ab-6938-4d57-b2c8-92e34a31ee80\">\n",
              "  <button class=\"colab-df-quickchart\" onclick=\"quickchart('df-8ccef2ab-6938-4d57-b2c8-92e34a31ee80')\"\n",
              "            title=\"Suggest charts\"\n",
              "            style=\"display:none;\">\n",
              "\n",
              "<svg xmlns=\"http://www.w3.org/2000/svg\" height=\"24px\"viewBox=\"0 0 24 24\"\n",
              "     width=\"24px\">\n",
              "    <g>\n",
              "        <path d=\"M19 3H5c-1.1 0-2 .9-2 2v14c0 1.1.9 2 2 2h14c1.1 0 2-.9 2-2V5c0-1.1-.9-2-2-2zM9 17H7v-7h2v7zm4 0h-2V7h2v10zm4 0h-2v-4h2v4z\"/>\n",
              "    </g>\n",
              "</svg>\n",
              "  </button>\n",
              "\n",
              "<style>\n",
              "  .colab-df-quickchart {\n",
              "      --bg-color: #E8F0FE;\n",
              "      --fill-color: #1967D2;\n",
              "      --hover-bg-color: #E2EBFA;\n",
              "      --hover-fill-color: #174EA6;\n",
              "      --disabled-fill-color: #AAA;\n",
              "      --disabled-bg-color: #DDD;\n",
              "  }\n",
              "\n",
              "  [theme=dark] .colab-df-quickchart {\n",
              "      --bg-color: #3B4455;\n",
              "      --fill-color: #D2E3FC;\n",
              "      --hover-bg-color: #434B5C;\n",
              "      --hover-fill-color: #FFFFFF;\n",
              "      --disabled-bg-color: #3B4455;\n",
              "      --disabled-fill-color: #666;\n",
              "  }\n",
              "\n",
              "  .colab-df-quickchart {\n",
              "    background-color: var(--bg-color);\n",
              "    border: none;\n",
              "    border-radius: 50%;\n",
              "    cursor: pointer;\n",
              "    display: none;\n",
              "    fill: var(--fill-color);\n",
              "    height: 32px;\n",
              "    padding: 0;\n",
              "    width: 32px;\n",
              "  }\n",
              "\n",
              "  .colab-df-quickchart:hover {\n",
              "    background-color: var(--hover-bg-color);\n",
              "    box-shadow: 0 1px 2px rgba(60, 64, 67, 0.3), 0 1px 3px 1px rgba(60, 64, 67, 0.15);\n",
              "    fill: var(--button-hover-fill-color);\n",
              "  }\n",
              "\n",
              "  .colab-df-quickchart-complete:disabled,\n",
              "  .colab-df-quickchart-complete:disabled:hover {\n",
              "    background-color: var(--disabled-bg-color);\n",
              "    fill: var(--disabled-fill-color);\n",
              "    box-shadow: none;\n",
              "  }\n",
              "\n",
              "  .colab-df-spinner {\n",
              "    border: 2px solid var(--fill-color);\n",
              "    border-color: transparent;\n",
              "    border-bottom-color: var(--fill-color);\n",
              "    animation:\n",
              "      spin 1s steps(1) infinite;\n",
              "  }\n",
              "\n",
              "  @keyframes spin {\n",
              "    0% {\n",
              "      border-color: transparent;\n",
              "      border-bottom-color: var(--fill-color);\n",
              "      border-left-color: var(--fill-color);\n",
              "    }\n",
              "    20% {\n",
              "      border-color: transparent;\n",
              "      border-left-color: var(--fill-color);\n",
              "      border-top-color: var(--fill-color);\n",
              "    }\n",
              "    30% {\n",
              "      border-color: transparent;\n",
              "      border-left-color: var(--fill-color);\n",
              "      border-top-color: var(--fill-color);\n",
              "      border-right-color: var(--fill-color);\n",
              "    }\n",
              "    40% {\n",
              "      border-color: transparent;\n",
              "      border-right-color: var(--fill-color);\n",
              "      border-top-color: var(--fill-color);\n",
              "    }\n",
              "    60% {\n",
              "      border-color: transparent;\n",
              "      border-right-color: var(--fill-color);\n",
              "    }\n",
              "    80% {\n",
              "      border-color: transparent;\n",
              "      border-right-color: var(--fill-color);\n",
              "      border-bottom-color: var(--fill-color);\n",
              "    }\n",
              "    90% {\n",
              "      border-color: transparent;\n",
              "      border-bottom-color: var(--fill-color);\n",
              "    }\n",
              "  }\n",
              "</style>\n",
              "\n",
              "  <script>\n",
              "    async function quickchart(key) {\n",
              "      const quickchartButtonEl =\n",
              "        document.querySelector('#' + key + ' button');\n",
              "      quickchartButtonEl.disabled = true;  // To prevent multiple clicks.\n",
              "      quickchartButtonEl.classList.add('colab-df-spinner');\n",
              "      try {\n",
              "        const charts = await google.colab.kernel.invokeFunction(\n",
              "            'suggestCharts', [key], {});\n",
              "      } catch (error) {\n",
              "        console.error('Error during call to suggestCharts:', error);\n",
              "      }\n",
              "      quickchartButtonEl.classList.remove('colab-df-spinner');\n",
              "      quickchartButtonEl.classList.add('colab-df-quickchart-complete');\n",
              "    }\n",
              "    (() => {\n",
              "      let quickchartButtonEl =\n",
              "        document.querySelector('#df-8ccef2ab-6938-4d57-b2c8-92e34a31ee80 button');\n",
              "      quickchartButtonEl.style.display =\n",
              "        google.colab.kernel.accessAllowed ? 'block' : 'none';\n",
              "    })();\n",
              "  </script>\n",
              "</div>\n",
              "\n",
              "    </div>\n",
              "  </div>\n"
            ],
            "application/vnd.google.colaboratory.intrinsic+json": {
              "type": "dataframe",
              "summary": "{\n  \"name\": \"display(pupa_tnb[\\\"train\\\"]\",\n  \"rows\": 3,\n  \"fields\": [\n    {\n      \"column\": \"conversation_hash\",\n      \"properties\": {\n        \"dtype\": \"string\",\n        \"num_unique_values\": 3,\n        \"samples\": [\n          \"e7a39c9e8d82872ca048996ee756350e\",\n          \"5ef034853452a12782a0aca4e71c9d62\",\n          \"9d10fe1f5b6657a7a5ccc0180a5938c8\"\n        ],\n        \"semantic_type\": \"\",\n        \"description\": \"\"\n      }\n    },\n    {\n      \"column\": \"predicted_category\",\n      \"properties\": {\n        \"dtype\": \"category\",\n        \"num_unique_values\": 1,\n        \"samples\": [\n          \"job, visa, and other applications\"\n        ],\n        \"semantic_type\": \"\",\n        \"description\": \"\"\n      }\n    },\n    {\n      \"column\": \"user_query\",\n      \"properties\": {\n        \"dtype\": \"string\",\n        \"num_unique_values\": 3,\n        \"samples\": [\n          \"Rachel Zheng is a clerk in the Administrative Department of H&R Technology. When she returns to the office, she finds a telephone message left by Johnny Bay, a manager of her department. In five days, Johnny will fly with the vice-president to the Univeristy of Westminster in order to attend a meeting. Johnny asks Rachel to book a hotel for them in Westminster. She needs to write an email to Johnny to explain her suggestions before booking. \\u8bf7\\u5c06\\u4ee5\\u4e0a\\u53e5\\u5b50\\u7ffb\\u8bd1\\u6210\\u4e2d\\u6587\"\n        ],\n        \"semantic_type\": \"\",\n        \"description\": \"\"\n      }\n    },\n    {\n      \"column\": \"target_response\",\n      \"properties\": {\n        \"dtype\": \"string\",\n        \"num_unique_values\": 3,\n        \"samples\": [\n          \"Rachel Zheng \\u662f H&R Technology \\u884c\\u653f\\u90e8\\u95e8\\u7684\\u804c\\u5458\\u3002\\u5f53\\u5979\\u56de\\u5230\\u529e\\u516c\\u5ba4\\u65f6\\uff0c\\u53d1\\u73b0\\u529e\\u516c\\u5ba4\\u7559\\u4e86\\u4e00\\u4e2a\\u7535\\u8bdd\\u7559\\u8a00\\uff0c\\u7559\\u8a00\\u662f\\u7531\\u5979\\u6240\\u5728\\u90e8\\u95e8\\u7684\\u7ecf\\u7406 Johnny Bay \\u7559\\u7684\\u3002Johnny \\u5c06\\u5728\\u4e94\\u5929\\u540e\\u548c\\u526f\\u603b\\u88c1\\u4e00\\u8d77\\u98de\\u5f80\\u5a01\\u65af\\u654f\\u65af\\u7279\\u5927\\u5b66\\u53c2\\u52a0\\u4f1a\\u8bae\\u3002Johnny \\u8bf7\\u6c42 Rachel \\u4e3a\\u4ed6\\u4eec\\u5728\\u5a01\\u65af\\u654f\\u65af\\u7279\\u9884\\u8ba2\\u9152\\u5e97\\u3002\\u5728\\u9884\\u8ba2\\u4e4b\\u524d\\uff0c\\u5979\\u9700\\u8981\\u7ed9 Johnny \\u53d1\\u9001\\u4e00\\u5c01\\u90ae\\u4ef6\\u89e3\\u91ca\\u5979\\u7684\\u5efa\\u8bae\\u3002\"\n        ],\n        \"semantic_type\": \"\",\n        \"description\": \"\"\n      }\n    },\n    {\n      \"column\": \"pii_units\",\n      \"properties\": {\n        \"dtype\": \"string\",\n        \"num_unique_values\": 3,\n        \"samples\": [\n          \"rachel||johnny||univeristy of westminster||westminster||johnny bay||rachel zheng||h&r technology\"\n        ],\n        \"semantic_type\": \"\",\n        \"description\": \"\"\n      }\n    },\n    {\n      \"column\": \"redacted_query\",\n      \"properties\": {\n        \"dtype\": \"string\",\n        \"num_unique_values\": 3,\n        \"samples\": [\n          \"[REDACTED] is a clerk in the Administrative Department of [REDACTED]. When she returns to the office, she finds a telephone message left by [REDACTED], a manager of her department. In five days, [REDACTED] will fly with the vice-president to the [REDACTED] in order to attend a meeting. [REDACTED] asks [REDACTED] to book a hotel for them in [REDACTED]. She needs to write an email to [REDACTED] to explain her suggestions before booking. \\u8bf7\\u5c06\\u4ee5\\u4e0a\\u53e5\\u5b50\\u7ffb\\u8bd1\\u6210\\u4e2d\\u6587\"\n        ],\n        \"semantic_type\": \"\",\n        \"description\": \"\"\n      }\n    }\n  ]\n}"
            }
          },
          "metadata": {}
        }
      ]
    },
    {
      "cell_type": "markdown",
      "metadata": {
        "id": "BoBS_5itOJE4"
      },
      "source": [
        "In the cell above,\n",
        "* `user_query` is the original user query containing private information\n",
        "* `pii_units` are PII information as extracted by GPT-4o-mini; as you can see in the example, there are instances of over-redaction\n",
        "* `target_response` are the original GPT-3.5 or GPT-4 responses according to WildChat."
      ]
    },
    {
      "cell_type": "code",
      "execution_count": 14,
      "metadata": {
        "colab": {
          "base_uri": "https://localhost:8080/"
        },
        "id": "i-BzJVxfOJE5",
        "outputId": "96c85279-c61b-4c5e-c684-2a604d51f103"
      },
      "outputs": [
        {
          "output_type": "stream",
          "name": "stdout",
          "text": [
            "Loaded 150 training examples, 150 dev examples, and 364 test examples.\n"
          ]
        }
      ],
      "source": [
        "examples = [\n",
        "    dspy.Example({\n",
        "        \"target_response\": x[\"target_response\"],\n",
        "        \"user_query\": x[\"user_query\"],\n",
        "        \"pii_str\": x[\"pii_units\"]\n",
        "    }).with_inputs(\"user_query\")\n",
        "    for x in pupa_new[\"train\"]\n",
        "]\n",
        "\n",
        "trainset, devset, testset = examples[:150], examples[150:300], examples[300:]\n",
        "print(f\"Loaded {len(trainset)} training examples, {len(devset)} dev examples, and {len(testset)} test examples.\")"
      ]
    },
    {
      "cell_type": "markdown",
      "metadata": {
        "id": "X84YUQiZOJE5"
      },
      "source": [
        "### Define metrics for success in this task\n",
        "\n",
        "What does it mean for a system to be successful at the PUPA benchmark?\n",
        "\n",
        "1. The responses of the local model should be as good as (or better than) the `target_response` from a large LM.\n",
        "2. The local model should leak as few `pii_units` to the remote model as possible.\n",
        "\n",
        "For benchmarking, we will judge both of these using our `openai_lm` and the annotation in PUPA."
      ]
    },
    {
      "cell_type": "code",
      "execution_count": null,
      "metadata": {
        "id": "29Bej_XfOJE5"
      },
      "outputs": [],
      "source": [
        "class JudgeQuality(dspy.Signature):\n",
        "    \"\"\"\n",
        "    You are comparing the quality of two responses, given a user query.\n",
        "    Is response A at least as good as response B?\n",
        "    \"\"\"\n",
        "\n",
        "    user_query = dspy.InputField(desc=\"The user's request to be fulfilled.\")\n",
        "    response_A = dspy.InputField()\n",
        "    response_B = dspy.InputField()\n",
        "    judgment: bool = dspy.OutputField()\n",
        "\n",
        "class JudgeLeakage(dspy.Signature):\n",
        "    \"\"\"\n",
        "    Count the number information pieces in `pii` that are simultaneously (i) forms of PII and (ii) are leaked into the prompt given.\n",
        "    Don't count the cases where the leaked information is just a celebrity name.\n",
        "    Don't count the cases where the `pii` information does not appear in the prompt.\n",
        "    \"\"\"\n",
        "\n",
        "    pii = dspy.InputField()\n",
        "    prompt = dspy.InputField()\n",
        "    num_pii_leaked: int = dspy.OutputField()\n",
        "\n",
        "class LLMJudge(dspy.Module):\n",
        "    def __init__(self):\n",
        "        self.quality_judge = dspy.ChainOfThought(JudgeQuality)\n",
        "        self.fact_checker = dspy.ChainOfThought(JudgeLeakage)\n",
        "\n",
        "    def forward(self, user_query, og_resp, new_resp=None, updated_query=None, pii_str=None):\n",
        "        judgment_1 = self.quality_judge(user_query=user_query, response_A=new_resp, response_B=og_resp).judgment\n",
        "        judgment_2 = self.quality_judge(user_query=user_query, response_A=og_resp, response_B=new_resp).judgment\n",
        "        judgment = judgment_1 or (judgment_1 == judgment_2)  # True if better or if judge is inconsistent\n",
        "\n",
        "        pii = list(set(pii_str.split(\"||\"))) # The pii_str field must be separated by `||`\n",
        "        pii_score = self.fact_checker(pii=pii, prompt=updated_query).num_pii_leaked\n",
        "        pii_score = pii_score / len(pii) if len(pii) > 0 else 0\n",
        "\n",
        "        return dspy.Prediction(quality=judgment, leakage=pii_score)\n",
        "\n",
        "dspy.configure(experimental=True)\n",
        "llm_judge = LLMJudge()\n",
        "llm_judge.set_lm(openai_lm)"
      ]
    },
    {
      "cell_type": "markdown",
      "metadata": {
        "id": "T_FcDVGeOJE5"
      },
      "source": [
        "With these judges, we can now define the metrics for optimization and for evaluation."
      ]
    },
    {
      "cell_type": "code",
      "execution_count": null,
      "metadata": {
        "id": "BWoOLpeuOJE5"
      },
      "outputs": [],
      "source": [
        "def compute_metrics(gold, pred, trace=None):\n",
        "    return llm_judge(\n",
        "        user_query=gold.user_query,\n",
        "        new_resp=pred.output,\n",
        "        og_resp=gold.target_response,\n",
        "        updated_query=pred.prompt,\n",
        "        pii_str=gold.pii_str,\n",
        "    )\n",
        "\n",
        "def compute_quality(gold, pred, trace=None):\n",
        "    return compute_metrics(gold, pred, trace).quality\n",
        "\n",
        "def compute_leakage(gold, pred, trace=None):\n",
        "    return compute_metrics(gold, pred, trace).leakage\n",
        "\n",
        "def compute_overall_score(gold, pred, trace=None):\n",
        "    metrics = compute_metrics(gold, pred, trace)\n",
        "    overall_score = (metrics.quality + (1 - metrics.leakage)) / 2.0\n",
        "    return overall_score >= 1.0 if trace is not None else overall_score"
      ]
    },
    {
      "cell_type": "markdown",
      "metadata": {
        "id": "xTwt8JeLOJE5"
      },
      "source": [
        "### Evaluate zero-shot PAPILLON\n",
        "\n",
        "Let's now use the PUPA data and the judges above to evaluate the zero-shot version of our PAPILLON pipeline!"
      ]
    },
    {
      "cell_type": "code",
      "execution_count": null,
      "metadata": {
        "id": "PWH5d5oWOJE5"
      },
      "outputs": [],
      "source": [
        "zeroshot = PAPILLON(untrusted_model=openai_lm)\n",
        "\n",
        "kwargs = dict(num_threads=16, display_progress=True, display_table=5, max_errors=100)\n",
        "evaluate = dspy.Evaluate(metric=compute_overall_score, devset=devset, **kwargs)"
      ]
    },
    {
      "cell_type": "code",
      "execution_count": null,
      "metadata": {
        "id": "Gns3B86DOJE6"
      },
      "outputs": [],
      "source": [
        "# Let's evaluate response quality!\n",
        "evaluate(zeroshot, metric=compute_quality)"
      ]
    },
    {
      "cell_type": "code",
      "execution_count": null,
      "metadata": {
        "id": "_YvWqx0tOJE6"
      },
      "outputs": [],
      "source": [
        "# Let's evaluate PII leakage!\n",
        "evaluate(zeroshot, metric=compute_leakage)"
      ]
    },
    {
      "cell_type": "markdown",
      "metadata": {
        "id": "OhveQv4HOJE6"
      },
      "source": [
        "### Use a pre-optimized PAPILLON\n",
        "\n",
        "You can use our original PAPILLON optimization run from the paper.\n",
        "\n",
        "Note that it's being loaded with the `use_legacy_loading` flag due to changes from DSPy 2.4 to 2.5. (The `v1` branch of this repository describes our paper's runs in the original conditions.)"
      ]
    },
    {
      "cell_type": "code",
      "execution_count": null,
      "metadata": {
        "id": "t9EGU7G_OJE6"
      },
      "outputs": [],
      "source": [
        "loaded_papillon = PAPILLON(openai_lm)\n",
        "loaded_papillon.load('papillon/optimized_prompts/llama_31_8b_instruct_prompt.json', use_legacy_loading=True)\n",
        "\n",
        "evaluate(loaded_papillon, metric=compute_quality)\n",
        "evaluate(loaded_papillon, metric=compute_leakage)"
      ]
    },
    {
      "cell_type": "code",
      "execution_count": null,
      "metadata": {
        "id": "NN2rropEOJE6"
      },
      "outputs": [],
      "source": [
        "while True:\n",
        "    user_query = input(\"Your Query > \")\n",
        "    pred = loaded_papillon(user_query)\n",
        "    print(\"PAPILLON PROMPT > \", pred.prompt)\n",
        "    print(\"PAPILLON OUTPUT > \", pred.output)"
      ]
    },
    {
      "cell_type": "markdown",
      "metadata": {
        "id": "kJr4hNpWOJE6"
      },
      "source": [
        "### Optimize your own PAPILLON\n",
        "\n",
        "Let's run a MIPROv2 optimizer from DSPy to maximize the `compute_overall_score` metric above for our zero-shot PAPILLON pipeline.\n",
        "\n",
        "To keep the cost manageable, we'll reduce the amount of exploration it does. This may take 30-60 minutes depending on your precise setup."
      ]
    },
    {
      "cell_type": "code",
      "execution_count": null,
      "metadata": {
        "id": "icmwepwrOJE6"
      },
      "outputs": [],
      "source": [
        "models = dict(prompt_model=openai_lm, task_model=local_lm)\n",
        "optimizer = dspy.MIPROv2(metric=compute_overall_score, auto=\"medium\", num_threads=16, **models)\n",
        "\n",
        "kwargs = dict(minibatch_size=35, max_bootstrapped_demos=5, max_labeled_demos=0)\n",
        "opt_papillon = optimizer.compile(zeroshot, trainset=trainset, **kwargs)"
      ]
    },
    {
      "cell_type": "code",
      "execution_count": null,
      "metadata": {
        "id": "ghdwoERWOJE6"
      },
      "outputs": [],
      "source": [
        "evaluate(opt_papillon, metric=compute_quality)\n",
        "evaluate(opt_papillon, metric=compute_leakage)"
      ]
    }
  ],
  "metadata": {
    "kernelspec": {
      "display_name": "py310_sept24_user",
      "language": "python",
      "name": "python3"
    },
    "language_info": {
      "name": "python",
      "version": "3.10.14"
    },
    "colab": {
      "provenance": [],
      "include_colab_link": true
    },
    "widgets": {
      "application/vnd.jupyter.widget-state+json": {
        "e7d5b6d6390c48e3aaeb02cf728b0678": {
          "model_module": "@jupyter-widgets/controls",
          "model_name": "HBoxModel",
          "model_module_version": "1.5.0",
          "state": {
            "_dom_classes": [],
            "_model_module": "@jupyter-widgets/controls",
            "_model_module_version": "1.5.0",
            "_model_name": "HBoxModel",
            "_view_count": null,
            "_view_module": "@jupyter-widgets/controls",
            "_view_module_version": "1.5.0",
            "_view_name": "HBoxView",
            "box_style": "",
            "children": [
              "IPY_MODEL_6b80cb68244d4631a9c0e0a8e7e1977b",
              "IPY_MODEL_80ec4a8aaff54127a1a0c328f98884b0",
              "IPY_MODEL_88970577783746aba001f831f5d6ac60"
            ],
            "layout": "IPY_MODEL_a3b15114a36a42b1b229dbd203d73fec"
          }
        },
        "6b80cb68244d4631a9c0e0a8e7e1977b": {
          "model_module": "@jupyter-widgets/controls",
          "model_name": "HTMLModel",
          "model_module_version": "1.5.0",
          "state": {
            "_dom_classes": [],
            "_model_module": "@jupyter-widgets/controls",
            "_model_module_version": "1.5.0",
            "_model_name": "HTMLModel",
            "_view_count": null,
            "_view_module": "@jupyter-widgets/controls",
            "_view_module_version": "1.5.0",
            "_view_name": "HTMLView",
            "description": "",
            "description_tooltip": null,
            "layout": "IPY_MODEL_7c31c78a43b742c0ac8458381254ca9e",
            "placeholder": "​",
            "style": "IPY_MODEL_a5ee2b50b4a74480b1d5218961e365b6",
            "value": "PUPA_TNB.csv: 100%"
          }
        },
        "80ec4a8aaff54127a1a0c328f98884b0": {
          "model_module": "@jupyter-widgets/controls",
          "model_name": "FloatProgressModel",
          "model_module_version": "1.5.0",
          "state": {
            "_dom_classes": [],
            "_model_module": "@jupyter-widgets/controls",
            "_model_module_version": "1.5.0",
            "_model_name": "FloatProgressModel",
            "_view_count": null,
            "_view_module": "@jupyter-widgets/controls",
            "_view_module_version": "1.5.0",
            "_view_name": "ProgressView",
            "bar_style": "success",
            "description": "",
            "description_tooltip": null,
            "layout": "IPY_MODEL_6b22028a70d9419487c472554e0d01e0",
            "max": 896538,
            "min": 0,
            "orientation": "horizontal",
            "style": "IPY_MODEL_4b8d4a03f9754ba5955cf8b04d74303e",
            "value": 896538
          }
        },
        "88970577783746aba001f831f5d6ac60": {
          "model_module": "@jupyter-widgets/controls",
          "model_name": "HTMLModel",
          "model_module_version": "1.5.0",
          "state": {
            "_dom_classes": [],
            "_model_module": "@jupyter-widgets/controls",
            "_model_module_version": "1.5.0",
            "_model_name": "HTMLModel",
            "_view_count": null,
            "_view_module": "@jupyter-widgets/controls",
            "_view_module_version": "1.5.0",
            "_view_name": "HTMLView",
            "description": "",
            "description_tooltip": null,
            "layout": "IPY_MODEL_5dbaf3402f3d44e0a6b3e5dbfaa6e789",
            "placeholder": "​",
            "style": "IPY_MODEL_36627b6ce95d4d2981157b7b721b7629",
            "value": " 897k/897k [00:00&lt;00:00, 13.2MB/s]"
          }
        },
        "a3b15114a36a42b1b229dbd203d73fec": {
          "model_module": "@jupyter-widgets/base",
          "model_name": "LayoutModel",
          "model_module_version": "1.2.0",
          "state": {
            "_model_module": "@jupyter-widgets/base",
            "_model_module_version": "1.2.0",
            "_model_name": "LayoutModel",
            "_view_count": null,
            "_view_module": "@jupyter-widgets/base",
            "_view_module_version": "1.2.0",
            "_view_name": "LayoutView",
            "align_content": null,
            "align_items": null,
            "align_self": null,
            "border": null,
            "bottom": null,
            "display": null,
            "flex": null,
            "flex_flow": null,
            "grid_area": null,
            "grid_auto_columns": null,
            "grid_auto_flow": null,
            "grid_auto_rows": null,
            "grid_column": null,
            "grid_gap": null,
            "grid_row": null,
            "grid_template_areas": null,
            "grid_template_columns": null,
            "grid_template_rows": null,
            "height": null,
            "justify_content": null,
            "justify_items": null,
            "left": null,
            "margin": null,
            "max_height": null,
            "max_width": null,
            "min_height": null,
            "min_width": null,
            "object_fit": null,
            "object_position": null,
            "order": null,
            "overflow": null,
            "overflow_x": null,
            "overflow_y": null,
            "padding": null,
            "right": null,
            "top": null,
            "visibility": null,
            "width": null
          }
        },
        "7c31c78a43b742c0ac8458381254ca9e": {
          "model_module": "@jupyter-widgets/base",
          "model_name": "LayoutModel",
          "model_module_version": "1.2.0",
          "state": {
            "_model_module": "@jupyter-widgets/base",
            "_model_module_version": "1.2.0",
            "_model_name": "LayoutModel",
            "_view_count": null,
            "_view_module": "@jupyter-widgets/base",
            "_view_module_version": "1.2.0",
            "_view_name": "LayoutView",
            "align_content": null,
            "align_items": null,
            "align_self": null,
            "border": null,
            "bottom": null,
            "display": null,
            "flex": null,
            "flex_flow": null,
            "grid_area": null,
            "grid_auto_columns": null,
            "grid_auto_flow": null,
            "grid_auto_rows": null,
            "grid_column": null,
            "grid_gap": null,
            "grid_row": null,
            "grid_template_areas": null,
            "grid_template_columns": null,
            "grid_template_rows": null,
            "height": null,
            "justify_content": null,
            "justify_items": null,
            "left": null,
            "margin": null,
            "max_height": null,
            "max_width": null,
            "min_height": null,
            "min_width": null,
            "object_fit": null,
            "object_position": null,
            "order": null,
            "overflow": null,
            "overflow_x": null,
            "overflow_y": null,
            "padding": null,
            "right": null,
            "top": null,
            "visibility": null,
            "width": null
          }
        },
        "a5ee2b50b4a74480b1d5218961e365b6": {
          "model_module": "@jupyter-widgets/controls",
          "model_name": "DescriptionStyleModel",
          "model_module_version": "1.5.0",
          "state": {
            "_model_module": "@jupyter-widgets/controls",
            "_model_module_version": "1.5.0",
            "_model_name": "DescriptionStyleModel",
            "_view_count": null,
            "_view_module": "@jupyter-widgets/base",
            "_view_module_version": "1.2.0",
            "_view_name": "StyleView",
            "description_width": ""
          }
        },
        "6b22028a70d9419487c472554e0d01e0": {
          "model_module": "@jupyter-widgets/base",
          "model_name": "LayoutModel",
          "model_module_version": "1.2.0",
          "state": {
            "_model_module": "@jupyter-widgets/base",
            "_model_module_version": "1.2.0",
            "_model_name": "LayoutModel",
            "_view_count": null,
            "_view_module": "@jupyter-widgets/base",
            "_view_module_version": "1.2.0",
            "_view_name": "LayoutView",
            "align_content": null,
            "align_items": null,
            "align_self": null,
            "border": null,
            "bottom": null,
            "display": null,
            "flex": null,
            "flex_flow": null,
            "grid_area": null,
            "grid_auto_columns": null,
            "grid_auto_flow": null,
            "grid_auto_rows": null,
            "grid_column": null,
            "grid_gap": null,
            "grid_row": null,
            "grid_template_areas": null,
            "grid_template_columns": null,
            "grid_template_rows": null,
            "height": null,
            "justify_content": null,
            "justify_items": null,
            "left": null,
            "margin": null,
            "max_height": null,
            "max_width": null,
            "min_height": null,
            "min_width": null,
            "object_fit": null,
            "object_position": null,
            "order": null,
            "overflow": null,
            "overflow_x": null,
            "overflow_y": null,
            "padding": null,
            "right": null,
            "top": null,
            "visibility": null,
            "width": null
          }
        },
        "4b8d4a03f9754ba5955cf8b04d74303e": {
          "model_module": "@jupyter-widgets/controls",
          "model_name": "ProgressStyleModel",
          "model_module_version": "1.5.0",
          "state": {
            "_model_module": "@jupyter-widgets/controls",
            "_model_module_version": "1.5.0",
            "_model_name": "ProgressStyleModel",
            "_view_count": null,
            "_view_module": "@jupyter-widgets/base",
            "_view_module_version": "1.2.0",
            "_view_name": "StyleView",
            "bar_color": null,
            "description_width": ""
          }
        },
        "5dbaf3402f3d44e0a6b3e5dbfaa6e789": {
          "model_module": "@jupyter-widgets/base",
          "model_name": "LayoutModel",
          "model_module_version": "1.2.0",
          "state": {
            "_model_module": "@jupyter-widgets/base",
            "_model_module_version": "1.2.0",
            "_model_name": "LayoutModel",
            "_view_count": null,
            "_view_module": "@jupyter-widgets/base",
            "_view_module_version": "1.2.0",
            "_view_name": "LayoutView",
            "align_content": null,
            "align_items": null,
            "align_self": null,
            "border": null,
            "bottom": null,
            "display": null,
            "flex": null,
            "flex_flow": null,
            "grid_area": null,
            "grid_auto_columns": null,
            "grid_auto_flow": null,
            "grid_auto_rows": null,
            "grid_column": null,
            "grid_gap": null,
            "grid_row": null,
            "grid_template_areas": null,
            "grid_template_columns": null,
            "grid_template_rows": null,
            "height": null,
            "justify_content": null,
            "justify_items": null,
            "left": null,
            "margin": null,
            "max_height": null,
            "max_width": null,
            "min_height": null,
            "min_width": null,
            "object_fit": null,
            "object_position": null,
            "order": null,
            "overflow": null,
            "overflow_x": null,
            "overflow_y": null,
            "padding": null,
            "right": null,
            "top": null,
            "visibility": null,
            "width": null
          }
        },
        "36627b6ce95d4d2981157b7b721b7629": {
          "model_module": "@jupyter-widgets/controls",
          "model_name": "DescriptionStyleModel",
          "model_module_version": "1.5.0",
          "state": {
            "_model_module": "@jupyter-widgets/controls",
            "_model_module_version": "1.5.0",
            "_model_name": "DescriptionStyleModel",
            "_view_count": null,
            "_view_module": "@jupyter-widgets/base",
            "_view_module_version": "1.2.0",
            "_view_name": "StyleView",
            "description_width": ""
          }
        },
        "ff781322fe90408ab280f5b00dc876c7": {
          "model_module": "@jupyter-widgets/controls",
          "model_name": "HBoxModel",
          "model_module_version": "1.5.0",
          "state": {
            "_dom_classes": [],
            "_model_module": "@jupyter-widgets/controls",
            "_model_module_version": "1.5.0",
            "_model_name": "HBoxModel",
            "_view_count": null,
            "_view_module": "@jupyter-widgets/controls",
            "_view_module_version": "1.5.0",
            "_view_name": "HBoxView",
            "box_style": "",
            "children": [
              "IPY_MODEL_ec5bd8c5fefa48fcb018256c48e6f1d0",
              "IPY_MODEL_866ecbbdcdfb48968d8cb2917cebefcb",
              "IPY_MODEL_cc168d7fe02e4f0090059a84146e6532"
            ],
            "layout": "IPY_MODEL_a3ed9e841ffa485ba8f98a07d9f4f07d"
          }
        },
        "ec5bd8c5fefa48fcb018256c48e6f1d0": {
          "model_module": "@jupyter-widgets/controls",
          "model_name": "HTMLModel",
          "model_module_version": "1.5.0",
          "state": {
            "_dom_classes": [],
            "_model_module": "@jupyter-widgets/controls",
            "_model_module_version": "1.5.0",
            "_model_name": "HTMLModel",
            "_view_count": null,
            "_view_module": "@jupyter-widgets/controls",
            "_view_module_version": "1.5.0",
            "_view_name": "HTMLView",
            "description": "",
            "description_tooltip": null,
            "layout": "IPY_MODEL_43d4b37c96cc4ae8b3192dc9ec958149",
            "placeholder": "​",
            "style": "IPY_MODEL_17f59263c6e64563952bd2b4df48db72",
            "value": "Generating train split: 100%"
          }
        },
        "866ecbbdcdfb48968d8cb2917cebefcb": {
          "model_module": "@jupyter-widgets/controls",
          "model_name": "FloatProgressModel",
          "model_module_version": "1.5.0",
          "state": {
            "_dom_classes": [],
            "_model_module": "@jupyter-widgets/controls",
            "_model_module_version": "1.5.0",
            "_model_name": "FloatProgressModel",
            "_view_count": null,
            "_view_module": "@jupyter-widgets/controls",
            "_view_module_version": "1.5.0",
            "_view_name": "ProgressView",
            "bar_style": "success",
            "description": "",
            "description_tooltip": null,
            "layout": "IPY_MODEL_75b5b5f16b6e468cae2c95d4445d152d",
            "max": 237,
            "min": 0,
            "orientation": "horizontal",
            "style": "IPY_MODEL_c21d967ef0c34328aa4add959474fcd8",
            "value": 237
          }
        },
        "cc168d7fe02e4f0090059a84146e6532": {
          "model_module": "@jupyter-widgets/controls",
          "model_name": "HTMLModel",
          "model_module_version": "1.5.0",
          "state": {
            "_dom_classes": [],
            "_model_module": "@jupyter-widgets/controls",
            "_model_module_version": "1.5.0",
            "_model_name": "HTMLModel",
            "_view_count": null,
            "_view_module": "@jupyter-widgets/controls",
            "_view_module_version": "1.5.0",
            "_view_name": "HTMLView",
            "description": "",
            "description_tooltip": null,
            "layout": "IPY_MODEL_9b37a5f93b604197b31f07f7c095ca09",
            "placeholder": "​",
            "style": "IPY_MODEL_3893374fef1640619df22a412edca53f",
            "value": " 237/237 [00:00&lt;00:00, 3986.02 examples/s]"
          }
        },
        "a3ed9e841ffa485ba8f98a07d9f4f07d": {
          "model_module": "@jupyter-widgets/base",
          "model_name": "LayoutModel",
          "model_module_version": "1.2.0",
          "state": {
            "_model_module": "@jupyter-widgets/base",
            "_model_module_version": "1.2.0",
            "_model_name": "LayoutModel",
            "_view_count": null,
            "_view_module": "@jupyter-widgets/base",
            "_view_module_version": "1.2.0",
            "_view_name": "LayoutView",
            "align_content": null,
            "align_items": null,
            "align_self": null,
            "border": null,
            "bottom": null,
            "display": null,
            "flex": null,
            "flex_flow": null,
            "grid_area": null,
            "grid_auto_columns": null,
            "grid_auto_flow": null,
            "grid_auto_rows": null,
            "grid_column": null,
            "grid_gap": null,
            "grid_row": null,
            "grid_template_areas": null,
            "grid_template_columns": null,
            "grid_template_rows": null,
            "height": null,
            "justify_content": null,
            "justify_items": null,
            "left": null,
            "margin": null,
            "max_height": null,
            "max_width": null,
            "min_height": null,
            "min_width": null,
            "object_fit": null,
            "object_position": null,
            "order": null,
            "overflow": null,
            "overflow_x": null,
            "overflow_y": null,
            "padding": null,
            "right": null,
            "top": null,
            "visibility": null,
            "width": null
          }
        },
        "43d4b37c96cc4ae8b3192dc9ec958149": {
          "model_module": "@jupyter-widgets/base",
          "model_name": "LayoutModel",
          "model_module_version": "1.2.0",
          "state": {
            "_model_module": "@jupyter-widgets/base",
            "_model_module_version": "1.2.0",
            "_model_name": "LayoutModel",
            "_view_count": null,
            "_view_module": "@jupyter-widgets/base",
            "_view_module_version": "1.2.0",
            "_view_name": "LayoutView",
            "align_content": null,
            "align_items": null,
            "align_self": null,
            "border": null,
            "bottom": null,
            "display": null,
            "flex": null,
            "flex_flow": null,
            "grid_area": null,
            "grid_auto_columns": null,
            "grid_auto_flow": null,
            "grid_auto_rows": null,
            "grid_column": null,
            "grid_gap": null,
            "grid_row": null,
            "grid_template_areas": null,
            "grid_template_columns": null,
            "grid_template_rows": null,
            "height": null,
            "justify_content": null,
            "justify_items": null,
            "left": null,
            "margin": null,
            "max_height": null,
            "max_width": null,
            "min_height": null,
            "min_width": null,
            "object_fit": null,
            "object_position": null,
            "order": null,
            "overflow": null,
            "overflow_x": null,
            "overflow_y": null,
            "padding": null,
            "right": null,
            "top": null,
            "visibility": null,
            "width": null
          }
        },
        "17f59263c6e64563952bd2b4df48db72": {
          "model_module": "@jupyter-widgets/controls",
          "model_name": "DescriptionStyleModel",
          "model_module_version": "1.5.0",
          "state": {
            "_model_module": "@jupyter-widgets/controls",
            "_model_module_version": "1.5.0",
            "_model_name": "DescriptionStyleModel",
            "_view_count": null,
            "_view_module": "@jupyter-widgets/base",
            "_view_module_version": "1.2.0",
            "_view_name": "StyleView",
            "description_width": ""
          }
        },
        "75b5b5f16b6e468cae2c95d4445d152d": {
          "model_module": "@jupyter-widgets/base",
          "model_name": "LayoutModel",
          "model_module_version": "1.2.0",
          "state": {
            "_model_module": "@jupyter-widgets/base",
            "_model_module_version": "1.2.0",
            "_model_name": "LayoutModel",
            "_view_count": null,
            "_view_module": "@jupyter-widgets/base",
            "_view_module_version": "1.2.0",
            "_view_name": "LayoutView",
            "align_content": null,
            "align_items": null,
            "align_self": null,
            "border": null,
            "bottom": null,
            "display": null,
            "flex": null,
            "flex_flow": null,
            "grid_area": null,
            "grid_auto_columns": null,
            "grid_auto_flow": null,
            "grid_auto_rows": null,
            "grid_column": null,
            "grid_gap": null,
            "grid_row": null,
            "grid_template_areas": null,
            "grid_template_columns": null,
            "grid_template_rows": null,
            "height": null,
            "justify_content": null,
            "justify_items": null,
            "left": null,
            "margin": null,
            "max_height": null,
            "max_width": null,
            "min_height": null,
            "min_width": null,
            "object_fit": null,
            "object_position": null,
            "order": null,
            "overflow": null,
            "overflow_x": null,
            "overflow_y": null,
            "padding": null,
            "right": null,
            "top": null,
            "visibility": null,
            "width": null
          }
        },
        "c21d967ef0c34328aa4add959474fcd8": {
          "model_module": "@jupyter-widgets/controls",
          "model_name": "ProgressStyleModel",
          "model_module_version": "1.5.0",
          "state": {
            "_model_module": "@jupyter-widgets/controls",
            "_model_module_version": "1.5.0",
            "_model_name": "ProgressStyleModel",
            "_view_count": null,
            "_view_module": "@jupyter-widgets/base",
            "_view_module_version": "1.2.0",
            "_view_name": "StyleView",
            "bar_color": null,
            "description_width": ""
          }
        },
        "9b37a5f93b604197b31f07f7c095ca09": {
          "model_module": "@jupyter-widgets/base",
          "model_name": "LayoutModel",
          "model_module_version": "1.2.0",
          "state": {
            "_model_module": "@jupyter-widgets/base",
            "_model_module_version": "1.2.0",
            "_model_name": "LayoutModel",
            "_view_count": null,
            "_view_module": "@jupyter-widgets/base",
            "_view_module_version": "1.2.0",
            "_view_name": "LayoutView",
            "align_content": null,
            "align_items": null,
            "align_self": null,
            "border": null,
            "bottom": null,
            "display": null,
            "flex": null,
            "flex_flow": null,
            "grid_area": null,
            "grid_auto_columns": null,
            "grid_auto_flow": null,
            "grid_auto_rows": null,
            "grid_column": null,
            "grid_gap": null,
            "grid_row": null,
            "grid_template_areas": null,
            "grid_template_columns": null,
            "grid_template_rows": null,
            "height": null,
            "justify_content": null,
            "justify_items": null,
            "left": null,
            "margin": null,
            "max_height": null,
            "max_width": null,
            "min_height": null,
            "min_width": null,
            "object_fit": null,
            "object_position": null,
            "order": null,
            "overflow": null,
            "overflow_x": null,
            "overflow_y": null,
            "padding": null,
            "right": null,
            "top": null,
            "visibility": null,
            "width": null
          }
        },
        "3893374fef1640619df22a412edca53f": {
          "model_module": "@jupyter-widgets/controls",
          "model_name": "DescriptionStyleModel",
          "model_module_version": "1.5.0",
          "state": {
            "_model_module": "@jupyter-widgets/controls",
            "_model_module_version": "1.5.0",
            "_model_name": "DescriptionStyleModel",
            "_view_count": null,
            "_view_module": "@jupyter-widgets/base",
            "_view_module_version": "1.2.0",
            "_view_name": "StyleView",
            "description_width": ""
          }
        }
      }
    }
  },
  "nbformat": 4,
  "nbformat_minor": 0
}